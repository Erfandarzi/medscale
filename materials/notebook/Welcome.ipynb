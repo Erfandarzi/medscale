{
 "cells": [
  {
   "cell_type": "markdown",
   "metadata": {
    "pycharm": {
     "name": "#%% md\n"
    }
   },
   "source": [
    "# Welcome to medscale Playground v0.0.2\n",
    "\n",
    "Welcome to **medscale Playground** (v0.0.2)! We provides a Python Notebook environment based on JupyterHub that allows you to get start with **medscale**!\n",
    "\n",
    "It is effortless to execute Python code in this Playground. For example, to print \"Hello medscale\", just press the play button in the upper-left corner.\n",
    "\n",
<<<<<<< HEAD
    "**Notice**: In this **medscale Playground** (v0.0.2), the version of medscale is 0.2.0, which might be some differences compared to the previous version, please refer to [Official Tutorial](https://medscale.io/docs/quick-start/) for more details.\n"
=======
<<<<<<< HEAD
    "**Notice**: In this **medscale Playground** (v0.0.2), the version of medscale is 0.2.0, which might be some differences compared to the previous version, please refer to [Official Tutorial](https://medscale.io/docs/quick-start/) for more details.\n"
=======
    "**Notice**: In this **medscale Playground** (v0.0.2), the version of medscale is 0.2.0, which might be some differences compared to the previous version, please refer to [Official Tutorial](https://medscale.io/docs/quick-start/) for more details.\n"
>>>>>>> fe4962455354c9c11afd9c9806ceda28eb280737
>>>>>>> 64b283ee525ef53c32509882719e74890329b83f
   ]
  },
  {
   "cell_type": "code",
   "execution_count": null,
   "metadata": {
    "ExecuteTime": {
     "end_time": "2022-04-08T03:10:24.034600Z",
     "start_time": "2022-04-08T03:10:24.031979Z"
    },
    "pycharm": {
     "name": "#%%\n"
    }
   },
   "outputs": [],
   "source": [
    "print(\"Hello medscale\")"
   ]
  },
  {
   "cell_type": "markdown",
   "metadata": {
    "pycharm": {
     "name": "#%% md\n"
    }
   },
   "source": [
    "We have provided several toy examples to help you get start with medscale. In this playground, all the dependencies have been installed in advance, so let's get started!"
   ]
  },
  {
   "cell_type": "code",
   "execution_count": null,
   "metadata": {
    "ExecuteTime": {
     "start_time": "2022-04-08T03:10:21.884Z"
    },
    "pycharm": {
     "name": "#%%\n"
    }
   },
   "outputs": [],
   "source": [
    "# Installation is REQUIRED in the playground.\n",
    "# You should execute the following code to install the stable version of medscale.\n",
    "\n",
    "# `git clone https://github.com/alibaba/medscale.git` if you are NOT in the playground.\n",
    "!cp -r fs_latest medscale\n",
    "\n",
    "# `cd medscale` if you are NOT in the playground.\n",
    "import os\n",
    "os.chdir('medscale')\n",
    "\n",
    "!pip install -e . --user"
   ]
  },
  {
   "cell_type": "code",
   "execution_count": null,
   "metadata": {
    "ExecuteTime": {
     "start_time": "2022-04-08T03:10:21.884Z"
    },
    "pycharm": {
     "name": "#%%\n"
    }
   },
   "outputs": [],
   "source": [
<<<<<<< HEAD
    "import medscale\n",
    "\n",
    "medscale.__version__"
=======
<<<<<<< HEAD
    "import medscale\n",
    "\n",
    "medscale.__version__"
=======
    "import medscale\n",
    "\n",
    "medscale.__version__"
>>>>>>> fe4962455354c9c11afd9c9806ceda28eb280737
>>>>>>> 64b283ee525ef53c32509882719e74890329b83f
   ]
  },
  {
   "cell_type": "markdown",
   "metadata": {
    "pycharm": {
     "name": "#%% md\n"
    }
   },
   "source": [
    "Okay, you're ready to get start with **medscale**! \n",
    "\n",
    "**NOTE**: your files in the playground will not be saved when you close JupyterHub."
   ]
  },
  {
   "cell_type": "markdown",
   "metadata": {
    "pycharm": {
     "name": "#%% md\n"
    }
   },
   "source": [
    "## Tutorials\n",
    "* [01. Quick start](./01_quick_start.ipynb)\n",
    "* [02. Start your own case](./02_start_your_own_case.ipynb)\n",
    "* [03. Try personalized federated learning](./03_personalized_FL.ipynb)\n",
    "\n",
<<<<<<< HEAD
    "For more features about **medscale**, please refer to [official documents](https://medscale.io/docs/quick-start/)."
=======
<<<<<<< HEAD
    "For more features about **medscale**, please refer to [official documents](https://medscale.io/docs/quick-start/)."
=======
    "For more features about **medscale**, please refer to [official documents](https://medscale.io/docs/quick-start/)."
>>>>>>> fe4962455354c9c11afd9c9806ceda28eb280737
>>>>>>> 64b283ee525ef53c32509882719e74890329b83f
   ]
  },
  {
   "cell_type": "code",
   "execution_count": null,
   "metadata": {
    "pycharm": {
     "name": "#%%\n"
    }
   },
   "outputs": [],
   "source": []
  }
 ],
 "metadata": {
  "kernelspec": {
   "display_name": "Python 3 (ipykernel)",
   "language": "python",
   "name": "python3"
  },
  "language_info": {
   "codemirror_mode": {
    "name": "ipython",
    "version": 3
   },
   "file_extension": ".py",
   "mimetype": "text/x-python",
   "name": "python",
   "nbconvert_exporter": "python",
   "pygments_lexer": "ipython3",
   "version": "3.9.13"
  }
 },
 "nbformat": 4,
 "nbformat_minor": 4
}
